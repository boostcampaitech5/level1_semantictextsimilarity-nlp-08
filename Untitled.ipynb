{
 "cells": [
  {
   "cell_type": "code",
   "execution_count": 1,
   "id": "0eb7712b-e1ce-4712-9c7d-e70eba6183b0",
   "metadata": {
    "tags": []
   },
   "outputs": [],
   "source": [
    "import pandas as pd"
   ]
  },
  {
   "cell_type": "code",
   "execution_count": 28,
   "id": "5edf41b1-63e1-42e1-9aa2-89e471248876",
   "metadata": {
    "tags": []
   },
   "outputs": [],
   "source": [
    "df_rb10 = pd.read_csv(\"../output_rb10.csv\")#output_bertbase10.csv\")"
   ]
  },
  {
   "cell_type": "code",
   "execution_count": 29,
   "id": "eb2524c6-7892-4dc1-876b-21653cc5b67d",
   "metadata": {
    "tags": []
   },
   "outputs": [],
   "source": [
    "df_rb12 = pd.read_csv(\"../output_rb12.csv\")#output_bertbase10.csv\")"
   ]
  },
  {
   "cell_type": "code",
   "execution_count": 30,
   "id": "52049ee2-f2c4-4ddc-8ef5-b19ce9999742",
   "metadata": {
    "tags": []
   },
   "outputs": [],
   "source": [
    "df_rb14 = pd.read_csv(\"../output_rb14.csv\")#output_bertbase10.csv\")"
   ]
  },
  {
   "cell_type": "code",
   "execution_count": 31,
   "id": "a7a9bcc1-edc3-4753-a864-54552effeb7a",
   "metadata": {
    "tags": []
   },
   "outputs": [],
   "source": [
    "df_rb16 = pd.read_csv(\"../output_rb16.csv\")#output_bertbase10.csv\")"
   ]
  },
  {
   "cell_type": "code",
   "execution_count": 32,
   "id": "bceb4700-2898-42dc-b6c2-7c89c588fcd9",
   "metadata": {
    "tags": []
   },
   "outputs": [],
   "source": [
    "df_rb18 = pd.read_csv(\"../output_rb18.csv\")#output_bertbase10.csv\")"
   ]
  },
  {
   "cell_type": "code",
   "execution_count": 33,
   "id": "0f84ab9a-06bb-46d0-b68e-410fd66bb2b5",
   "metadata": {
    "tags": []
   },
   "outputs": [],
   "source": [
    "df_rb20 = pd.read_csv(\"../output_rb20.csv\")#output_bertbase10.csv\")"
   ]
  },
  {
   "cell_type": "code",
   "execution_count": 34,
   "id": "f3c95c97-aada-410c-8c37-fb037820ccb1",
   "metadata": {
    "tags": []
   },
   "outputs": [],
   "source": [
    "df_rb22 = pd.read_csv(\"../output_rb22.csv\")#output_bertbase10.csv\")"
   ]
  },
  {
   "cell_type": "code",
   "execution_count": 42,
   "id": "7f048cd2-8a45-4506-bf47-097ae59afef3",
   "metadata": {
    "tags": []
   },
   "outputs": [],
   "source": [
    "df_rb22[\"target\"] += (df_rb20[\"target\"] + df_rb18[\"target\"] + df_rb16[\"target\"] + df_rb14[\"target\"] + df_rb12[\"target\"] + df_rb10[\"target\"])"
   ]
  },
  {
   "cell_type": "code",
   "execution_count": 43,
   "id": "7ae438eb-ef54-4b94-ae15-15cdfd923c99",
   "metadata": {
    "tags": []
   },
   "outputs": [
    {
     "data": {
      "text/plain": [
       "0       24.5\n",
       "1       30.2\n",
       "2       15.1\n",
       "3       -0.1\n",
       "4       26.9\n",
       "        ... \n",
       "1095    11.0\n",
       "1096    29.2\n",
       "1097    29.3\n",
       "1098    25.6\n",
       "1099    33.7\n",
       "Name: target, Length: 1100, dtype: float64"
      ]
     },
     "execution_count": 43,
     "metadata": {},
     "output_type": "execute_result"
    }
   ],
   "source": [
    "df_rb22[\"target\"]"
   ]
  },
  {
   "cell_type": "code",
   "execution_count": 44,
   "id": "a4151355-2304-4386-b7d5-c01fb353232a",
   "metadata": {
    "tags": []
   },
   "outputs": [],
   "source": [
    "df_rb22[\"target\"] /= 7"
   ]
  },
  {
   "cell_type": "code",
   "execution_count": 45,
   "id": "56d0a25c-5aa3-4450-947e-002a8a69a2a7",
   "metadata": {
    "tags": []
   },
   "outputs": [],
   "source": [
    "df_rb22['target'] = round(df_rb22['target'], 1)"
   ]
  },
  {
   "cell_type": "code",
   "execution_count": 46,
   "id": "f072ff07-ace7-42b8-91ea-04f0627004fa",
   "metadata": {
    "tags": []
   },
   "outputs": [
    {
     "data": {
      "text/html": [
       "<div>\n",
       "<style scoped>\n",
       "    .dataframe tbody tr th:only-of-type {\n",
       "        vertical-align: middle;\n",
       "    }\n",
       "\n",
       "    .dataframe tbody tr th {\n",
       "        vertical-align: top;\n",
       "    }\n",
       "\n",
       "    .dataframe thead th {\n",
       "        text-align: right;\n",
       "    }\n",
       "</style>\n",
       "<table border=\"1\" class=\"dataframe\">\n",
       "  <thead>\n",
       "    <tr style=\"text-align: right;\">\n",
       "      <th></th>\n",
       "      <th>id</th>\n",
       "      <th>target</th>\n",
       "    </tr>\n",
       "  </thead>\n",
       "  <tbody>\n",
       "    <tr>\n",
       "      <th>0</th>\n",
       "      <td>boostcamp-sts-v1-test-000</td>\n",
       "      <td>3.5</td>\n",
       "    </tr>\n",
       "    <tr>\n",
       "      <th>1</th>\n",
       "      <td>boostcamp-sts-v1-test-001</td>\n",
       "      <td>4.3</td>\n",
       "    </tr>\n",
       "    <tr>\n",
       "      <th>2</th>\n",
       "      <td>boostcamp-sts-v1-test-002</td>\n",
       "      <td>2.2</td>\n",
       "    </tr>\n",
       "    <tr>\n",
       "      <th>3</th>\n",
       "      <td>boostcamp-sts-v1-test-003</td>\n",
       "      <td>-0.0</td>\n",
       "    </tr>\n",
       "    <tr>\n",
       "      <th>4</th>\n",
       "      <td>boostcamp-sts-v1-test-004</td>\n",
       "      <td>3.8</td>\n",
       "    </tr>\n",
       "    <tr>\n",
       "      <th>...</th>\n",
       "      <td>...</td>\n",
       "      <td>...</td>\n",
       "    </tr>\n",
       "    <tr>\n",
       "      <th>1095</th>\n",
       "      <td>boostcamp-sts-v1-test-1095</td>\n",
       "      <td>1.6</td>\n",
       "    </tr>\n",
       "    <tr>\n",
       "      <th>1096</th>\n",
       "      <td>boostcamp-sts-v1-test-1096</td>\n",
       "      <td>4.2</td>\n",
       "    </tr>\n",
       "    <tr>\n",
       "      <th>1097</th>\n",
       "      <td>boostcamp-sts-v1-test-1097</td>\n",
       "      <td>4.2</td>\n",
       "    </tr>\n",
       "    <tr>\n",
       "      <th>1098</th>\n",
       "      <td>boostcamp-sts-v1-test-1098</td>\n",
       "      <td>3.7</td>\n",
       "    </tr>\n",
       "    <tr>\n",
       "      <th>1099</th>\n",
       "      <td>boostcamp-sts-v1-test-1099</td>\n",
       "      <td>4.8</td>\n",
       "    </tr>\n",
       "  </tbody>\n",
       "</table>\n",
       "<p>1100 rows × 2 columns</p>\n",
       "</div>"
      ],
      "text/plain": [
       "                              id  target\n",
       "0      boostcamp-sts-v1-test-000     3.5\n",
       "1      boostcamp-sts-v1-test-001     4.3\n",
       "2      boostcamp-sts-v1-test-002     2.2\n",
       "3      boostcamp-sts-v1-test-003    -0.0\n",
       "4      boostcamp-sts-v1-test-004     3.8\n",
       "...                          ...     ...\n",
       "1095  boostcamp-sts-v1-test-1095     1.6\n",
       "1096  boostcamp-sts-v1-test-1096     4.2\n",
       "1097  boostcamp-sts-v1-test-1097     4.2\n",
       "1098  boostcamp-sts-v1-test-1098     3.7\n",
       "1099  boostcamp-sts-v1-test-1099     4.8\n",
       "\n",
       "[1100 rows x 2 columns]"
      ]
     },
     "execution_count": 46,
     "metadata": {},
     "output_type": "execute_result"
    }
   ],
   "source": [
    "df_rb22"
   ]
  },
  {
   "cell_type": "code",
   "execution_count": 47,
   "id": "1175347f-aafc-4aeb-8c13-35c4d68adc8e",
   "metadata": {
    "tags": []
   },
   "outputs": [],
   "source": [
    "df_rb22.to_csv(\"../output_7ens.csv\", index=False)"
   ]
  },
  {
   "cell_type": "code",
   "execution_count": null,
   "id": "c4a34056-9231-4eed-b2dc-4ca1261a509e",
   "metadata": {},
   "outputs": [],
   "source": []
  }
 ],
 "metadata": {
  "kernelspec": {
   "display_name": "Python 3 (ipykernel)",
   "language": "python",
   "name": "python3"
  },
  "language_info": {
   "codemirror_mode": {
    "name": "ipython",
    "version": 3
   },
   "file_extension": ".py",
   "mimetype": "text/x-python",
   "name": "python",
   "nbconvert_exporter": "python",
   "pygments_lexer": "ipython3",
   "version": "3.8.5"
  }
 },
 "nbformat": 4,
 "nbformat_minor": 5
}
